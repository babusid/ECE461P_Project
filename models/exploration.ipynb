{
 "cells": [
  {
   "attachments": {},
   "cell_type": "markdown",
   "metadata": {},
   "source": [
    "This notebook is intended to explore the data and do some feature engineering, in an attempt to make our model / models do better."
   ]
  },
  {
   "cell_type": "code",
   "execution_count": 1,
   "metadata": {},
   "outputs": [],
   "source": [
    "import pandas as pd\n",
    "\n",
    "train = pd.read_csv('../data/train_with_rounded_score.csv')"
   ]
  },
  {
   "cell_type": "code",
   "execution_count": 2,
   "metadata": {},
   "outputs": [
    {
     "data": {
      "text/plain": [
       "1001     887\n",
       "39159    887\n",
       "39115    887\n",
       "39117    887\n",
       "39119    887\n",
       "        ... \n",
       "21159    887\n",
       "21161    887\n",
       "21163    887\n",
       "21165    887\n",
       "56043    887\n",
       "Name: fips, Length: 3108, dtype: int64"
      ]
     },
     "execution_count": 2,
     "metadata": {},
     "output_type": "execute_result"
    }
   ],
   "source": [
    "train['fips'].value_counts()"
   ]
  },
  {
   "cell_type": "code",
   "execution_count": 4,
   "metadata": {},
   "outputs": [],
   "source": [
    "single_county = train.loc[(train['fips'] >= 1001) & (train['fips'] <= 1001)]"
   ]
  },
  {
   "cell_type": "code",
   "execution_count": 7,
   "metadata": {},
   "outputs": [
    {
     "name": "stderr",
     "output_type": "stream",
     "text": [
      "/tmp/ipykernel_536289/2772462526.py:1: FutureWarning: The default value of numeric_only in DataFrame.var is deprecated. In a future version, it will default to False. In addition, specifying 'numeric_only=None' is deprecated. Select only valid columns or specify the value of numeric_only to silence this warning.\n",
      "  single_county.var()\n"
     ]
    },
    {
     "data": {
      "text/plain": [
       "fips            0.000000\n",
       "PRECTOT        70.782032\n",
       "PS              0.258336\n",
       "QV2M           21.902219\n",
       "T2M            71.364997\n",
       "T2MDEW         66.071255\n",
       "T2MWET         65.672210\n",
       "T2M_MAX        73.917536\n",
       "T2M_MIN        73.479092\n",
       "T2M_RANGE      11.214626\n",
       "TS             72.716599\n",
       "WS10M           0.557655\n",
       "WS10M_MAX       1.245619\n",
       "WS10M_MIN       0.384945\n",
       "WS10M_RANGE     0.676556\n",
       "WS50M           1.798121\n",
       "WS50M_MAX       2.521050\n",
       "WS50M_MIN       1.882764\n",
       "WS50M_RANGE     1.694389\n",
       "score           2.054255\n",
       "dtype: float64"
      ]
     },
     "execution_count": 7,
     "metadata": {},
     "output_type": "execute_result"
    }
   ],
   "source": [
    "single_county.var()"
   ]
  },
  {
   "cell_type": "code",
   "execution_count": 11,
   "metadata": {},
   "outputs": [
    {
     "name": "stderr",
     "output_type": "stream",
     "text": [
      "/tmp/ipykernel_536289/3617257294.py:1: FutureWarning: The default value of numeric_only in DataFrame.var is deprecated. In a future version, it will default to False. In addition, specifying 'numeric_only=None' is deprecated. Select only valid columns or specify the value of numeric_only to silence this warning.\n",
      "  train.var()\n"
     ]
    },
    {
     "data": {
      "text/plain": [
       "fips           2.243737e+08\n",
       "PRECTOT        3.903238e+01\n",
       "PS             2.964474e+01\n",
       "QV2M           2.229217e+01\n",
       "T2M            1.203497e+02\n",
       "T2MDEW         1.039921e+02\n",
       "T2MWET         1.028934e+02\n",
       "T2M_MAX        1.346285e+02\n",
       "T2M_MIN        1.127458e+02\n",
       "T2M_RANGE      1.630562e+01\n",
       "TS             1.252373e+02\n",
       "WS10M          3.413792e+00\n",
       "WS10M_MAX      6.808023e+00\n",
       "WS10M_MIN      1.802194e+00\n",
       "WS10M_RANGE    3.775779e+00\n",
       "WS50M          5.283331e+00\n",
       "WS50M_MAX      8.046399e+00\n",
       "WS50M_MIN      4.451867e+00\n",
       "WS50M_RANGE    4.756849e+00\n",
       "score          1.535295e+00\n",
       "dtype: float64"
      ]
     },
     "execution_count": 11,
     "metadata": {},
     "output_type": "execute_result"
    }
   ],
   "source": [
    "train.var()"
   ]
  },
  {
   "cell_type": "code",
   "execution_count": 9,
   "metadata": {},
   "outputs": [
    {
     "name": "stderr",
     "output_type": "stream",
     "text": [
      "/tmp/ipykernel_536289/344314659.py:1: FutureWarning: The default value of numeric_only in DataFrame.var is deprecated. In a future version, it will default to False. In addition, specifying 'numeric_only=None' is deprecated. Select only valid columns or specify the value of numeric_only to silence this warning.\n",
      "  train.var() > single_county.var()\n",
      "/tmp/ipykernel_536289/344314659.py:1: FutureWarning: The default value of numeric_only in DataFrame.var is deprecated. In a future version, it will default to False. In addition, specifying 'numeric_only=None' is deprecated. Select only valid columns or specify the value of numeric_only to silence this warning.\n",
      "  train.var() > single_county.var()\n"
     ]
    },
    {
     "data": {
      "text/plain": [
       "fips            True\n",
       "PRECTOT        False\n",
       "PS              True\n",
       "QV2M            True\n",
       "T2M             True\n",
       "T2MDEW          True\n",
       "T2MWET          True\n",
       "T2M_MAX         True\n",
       "T2M_MIN         True\n",
       "T2M_RANGE       True\n",
       "TS              True\n",
       "WS10M           True\n",
       "WS10M_MAX       True\n",
       "WS10M_MIN       True\n",
       "WS10M_RANGE     True\n",
       "WS50M           True\n",
       "WS50M_MAX       True\n",
       "WS50M_MIN       True\n",
       "WS50M_RANGE     True\n",
       "score          False\n",
       "dtype: bool"
      ]
     },
     "execution_count": 9,
     "metadata": {},
     "output_type": "execute_result"
    }
   ],
   "source": [
    "train.var() > single_county.var()"
   ]
  },
  {
   "attachments": {},
   "cell_type": "markdown",
   "metadata": {},
   "source": [
    "We can see that the variance of the entire training set is higher than the variance of the training set for just one county in many of the features. This makes sense, as different counties likely have different drought conditions. "
   ]
  },
  {
   "cell_type": "code",
   "execution_count": 12,
   "metadata": {},
   "outputs": [],
   "source": [
    "alabama = train.loc[(train['fips'] > 1000) & (train['fips'] < 2000)]"
   ]
  },
  {
   "cell_type": "code",
   "execution_count": 15,
   "metadata": {},
   "outputs": [
    {
     "name": "stderr",
     "output_type": "stream",
     "text": [
      "/tmp/ipykernel_536289/363542240.py:1: FutureWarning: The default value of numeric_only in DataFrame.var is deprecated. In a future version, it will default to False. In addition, specifying 'numeric_only=None' is deprecated. Select only valid columns or specify the value of numeric_only to silence this warning.\n",
      "  alabama.var()\n"
     ]
    },
    {
     "data": {
      "text/plain": [
       "fips           1496.025173\n",
       "PRECTOT          64.740118\n",
       "PS                1.009685\n",
       "QV2M             21.755892\n",
       "T2M              73.864551\n",
       "T2MDEW           66.561731\n",
       "T2MWET           66.193030\n",
       "T2M_MAX          78.072929\n",
       "T2M_MIN          75.340428\n",
       "T2M_RANGE        11.695039\n",
       "TS               74.970636\n",
       "WS10M             0.664036\n",
       "WS10M_MAX         1.450697\n",
       "WS10M_MIN         0.420615\n",
       "WS10M_RANGE       0.755289\n",
       "WS50M             1.879605\n",
       "WS50M_MAX         2.639909\n",
       "WS50M_MIN         1.940224\n",
       "WS50M_RANGE       1.711696\n",
       "score             2.015011\n",
       "dtype: float64"
      ]
     },
     "execution_count": 15,
     "metadata": {},
     "output_type": "execute_result"
    }
   ],
   "source": [
    "alabama.var()"
   ]
  },
  {
   "cell_type": "code",
   "execution_count": 16,
   "metadata": {},
   "outputs": [
    {
     "name": "stderr",
     "output_type": "stream",
     "text": [
      "/tmp/ipykernel_536289/866035229.py:1: FutureWarning: The default value of numeric_only in DataFrame.var is deprecated. In a future version, it will default to False. In addition, specifying 'numeric_only=None' is deprecated. Select only valid columns or specify the value of numeric_only to silence this warning.\n",
      "  alabama.var() > single_county.var()\n",
      "/tmp/ipykernel_536289/866035229.py:1: FutureWarning: The default value of numeric_only in DataFrame.var is deprecated. In a future version, it will default to False. In addition, specifying 'numeric_only=None' is deprecated. Select only valid columns or specify the value of numeric_only to silence this warning.\n",
      "  alabama.var() > single_county.var()\n"
     ]
    },
    {
     "data": {
      "text/plain": [
       "fips            True\n",
       "PRECTOT        False\n",
       "PS              True\n",
       "QV2M           False\n",
       "T2M             True\n",
       "T2MDEW          True\n",
       "T2MWET          True\n",
       "T2M_MAX         True\n",
       "T2M_MIN         True\n",
       "T2M_RANGE       True\n",
       "TS              True\n",
       "WS10M           True\n",
       "WS10M_MAX       True\n",
       "WS10M_MIN       True\n",
       "WS10M_RANGE     True\n",
       "WS50M           True\n",
       "WS50M_MAX       True\n",
       "WS50M_MIN       True\n",
       "WS50M_RANGE     True\n",
       "score          False\n",
       "dtype: bool"
      ]
     },
     "execution_count": 16,
     "metadata": {},
     "output_type": "execute_result"
    }
   ],
   "source": [
    "alabama.var() > single_county.var()"
   ]
  },
  {
   "cell_type": "code",
   "execution_count": 17,
   "metadata": {},
   "outputs": [
    {
     "name": "stderr",
     "output_type": "stream",
     "text": [
      "/tmp/ipykernel_536289/3616867503.py:1: FutureWarning: The default value of numeric_only in DataFrame.var is deprecated. In a future version, it will default to False. In addition, specifying 'numeric_only=None' is deprecated. Select only valid columns or specify the value of numeric_only to silence this warning.\n",
      "  alabama.var() > train.var()\n",
      "/tmp/ipykernel_536289/3616867503.py:1: FutureWarning: The default value of numeric_only in DataFrame.var is deprecated. In a future version, it will default to False. In addition, specifying 'numeric_only=None' is deprecated. Select only valid columns or specify the value of numeric_only to silence this warning.\n",
      "  alabama.var() > train.var()\n"
     ]
    },
    {
     "data": {
      "text/plain": [
       "fips           False\n",
       "PRECTOT         True\n",
       "PS             False\n",
       "QV2M           False\n",
       "T2M            False\n",
       "T2MDEW         False\n",
       "T2MWET         False\n",
       "T2M_MAX        False\n",
       "T2M_MIN        False\n",
       "T2M_RANGE      False\n",
       "TS             False\n",
       "WS10M          False\n",
       "WS10M_MAX      False\n",
       "WS10M_MIN      False\n",
       "WS10M_RANGE    False\n",
       "WS50M          False\n",
       "WS50M_MAX      False\n",
       "WS50M_MIN      False\n",
       "WS50M_RANGE    False\n",
       "score           True\n",
       "dtype: bool"
      ]
     },
     "execution_count": 17,
     "metadata": {},
     "output_type": "execute_result"
    }
   ],
   "source": [
    "alabama.var() > train.var()"
   ]
  },
  {
   "attachments": {},
   "cell_type": "markdown",
   "metadata": {},
   "source": [
    "We can see that across a whole state, the variance of the data is greater than just 1 county, but it is still less than the entire training data. This also makes sense, as a state could encompass different biomes and climate regions that behave differently with regards to droughts. "
   ]
  },
  {
   "cell_type": "code",
   "execution_count": null,
   "metadata": {},
   "outputs": [],
   "source": []
  }
 ],
 "metadata": {
  "kernelspec": {
   "display_name": "venv",
   "language": "python",
   "name": "python3"
  },
  "language_info": {
   "codemirror_mode": {
    "name": "ipython",
    "version": 3
   },
   "file_extension": ".py",
   "mimetype": "text/x-python",
   "name": "python",
   "nbconvert_exporter": "python",
   "pygments_lexer": "ipython3",
   "version": "3.10.6"
  },
  "orig_nbformat": 4
 },
 "nbformat": 4,
 "nbformat_minor": 2
}
