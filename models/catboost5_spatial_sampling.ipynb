{
 "cells": [
  {
   "attachments": {},
   "cell_type": "markdown",
   "metadata": {},
   "source": [
    "In this notebook, I'm going to try combining both the spatial encoding as well as oversampling. I'm going to try random oversampling as well as SMOTE. This will still be a classification approach."
   ]
  },
  {
   "cell_type": "code",
   "execution_count": 1,
   "metadata": {},
   "outputs": [],
   "source": [
    "import pandas as pd\n",
    "\n",
    "train = pd.read_csv('../data/train_with_rounded_score.csv')\n",
    "test = pd.read_csv('../data/test_with_rounded_score.csv')"
   ]
  },
  {
   "cell_type": "code",
   "execution_count": 2,
   "metadata": {},
   "outputs": [],
   "source": [
    "import json\n",
    "fips_map = json.load(open('../data/fips_map.json'))"
   ]
  },
  {
   "cell_type": "code",
   "execution_count": 3,
   "metadata": {},
   "outputs": [],
   "source": [
    "from functools import lru_cache\n",
    "\n",
    "@lru_cache(maxsize=10000)\n",
    "def fips_to_coordinate(fips_code):\n",
    "    fips_code = str(fips_code)\n",
    "    if fips_code in fips_map:\n",
    "        return [fips_map[fips_code]['lat'], fips_map[fips_code]['long']]\n",
    "    else:\n",
    "        return [None, None]"
   ]
  },
  {
   "cell_type": "code",
   "execution_count": 4,
   "metadata": {},
   "outputs": [],
   "source": [
    "#geocode all of the fips codes in train and test\n",
    "train_coords = train['fips'].apply(fips_to_coordinate)\n",
    "test_coords = test['fips'].apply(fips_to_coordinate)"
   ]
  },
  {
   "cell_type": "code",
   "execution_count": 5,
   "metadata": {},
   "outputs": [],
   "source": [
    "train_coords = pd.DataFrame(train_coords.tolist(), columns=['lat', 'long'])\n",
    "test_coords = pd.DataFrame(test_coords.tolist(), columns=['lat', 'long'])"
   ]
  },
  {
   "cell_type": "code",
   "execution_count": 6,
   "metadata": {},
   "outputs": [],
   "source": [
    "# Add the coordinates to the train and test data\n",
    "train = pd.concat([train, train_coords], axis=1)\n",
    "test = pd.concat([test, test_coords], axis=1)\n",
    "\n",
    "# Drop the fips column\n",
    "train = train.drop('fips', axis=1)\n",
    "test = test.drop('fips', axis=1)\n",
    "\n",
    "train = train.drop('date',axis=1)\n",
    "test = test.drop('date',axis=1)"
   ]
  },
  {
   "cell_type": "code",
   "execution_count": 7,
   "metadata": {},
   "outputs": [],
   "source": [
    "# oversample\n",
    "from imblearn.over_sampling import RandomOverSampler, SMOTE\n",
    "r = RandomOverSampler(random_state=42)\n",
    "s = SMOTE(random_state=42)\n",
    "trainX_randOS, trainY_randOS = r.fit_resample(train.drop(['score'], axis=1), train['score'])\n",
    "trainX_smote, trainY_smote = s.fit_resample(train.drop(['score'],axis=1), train['score'])"
   ]
  },
  {
   "cell_type": "code",
   "execution_count": 8,
   "metadata": {},
   "outputs": [],
   "source": [
    "trainX_randOS = pd.DataFrame(trainX_randOS, columns=train.drop(['score'], axis=1).columns)\n",
    "trainY_randOS = pd.Series(trainY_randOS)\n",
    "\n",
    "trainX_smote = pd.DataFrame(trainX_smote, columns=train.drop(['score'],axis=1).columns)\n",
    "trainY_smote = pd.Series(trainY_smote)"
   ]
  },
  {
   "cell_type": "code",
   "execution_count": 9,
   "metadata": {},
   "outputs": [
    {
     "name": "stdout",
     "output_type": "stream",
     "text": [
      "1    1652230\n",
      "2    1652230\n",
      "3    1652230\n",
      "4    1652230\n",
      "5    1652230\n",
      "0    1652230\n",
      "Name: score, dtype: int64\n",
      "1    1652230\n",
      "2    1652230\n",
      "3    1652230\n",
      "4    1652230\n",
      "5    1652230\n",
      "0    1652230\n",
      "Name: score, dtype: int64\n"
     ]
    }
   ],
   "source": [
    "print(trainY_randOS.value_counts())\n",
    "print(trainY_smote.value_counts())"
   ]
  },
  {
   "cell_type": "code",
   "execution_count": null,
   "metadata": {},
   "outputs": [],
   "source": [
    "from catboost import CatBoostClassifier\n",
    "import pickle\n",
    "\n",
    "cb_rand = CatBoostClassifier()\n",
    "cb_rand.fit(trainX_randOS, trainY_randOS)\n",
    "pickle.dumps(cb_rand, open('catboost_spatial_randomoversampling.pkl','wb'))"
   ]
  },
  {
   "cell_type": "code",
   "execution_count": null,
   "metadata": {},
   "outputs": [],
   "source": [
    "cb_smote = CatBoostClassifier()\n",
    "cb_smote.fit(trainX_smote, trainY_smote)\n",
    "pickle.dumps(cb_rand, open('catboost_spatial_smote.pkl','wb'))"
   ]
  }
 ],
 "metadata": {
  "kernelspec": {
   "display_name": "venv",
   "language": "python",
   "name": "python3"
  },
  "language_info": {
   "codemirror_mode": {
    "name": "ipython",
    "version": 3
   },
   "file_extension": ".py",
   "mimetype": "text/x-python",
   "name": "python",
   "nbconvert_exporter": "python",
   "pygments_lexer": "ipython3",
   "version": "3.10.6"
  },
  "orig_nbformat": 4
 },
 "nbformat": 4,
 "nbformat_minor": 2
}
